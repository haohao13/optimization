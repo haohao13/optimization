{
  "nbformat": 4,
  "nbformat_minor": 0,
  "metadata": {
    "colab": {
      "name": "Part A.ipynb",
      "provenance": [],
      "collapsed_sections": [
        "3oG36tT_nkqj",
        "_uuJLQRYodan",
        "v_9RavnJpCKJ"
      ]
    },
    "kernelspec": {
      "name": "python3",
      "display_name": "Python 3"
    }
  },
  "cells": [
    {
      "cell_type": "markdown",
      "metadata": {
        "id": "3oG36tT_nkqj",
        "colab_type": "text"
      },
      "source": [
        "# Exercise 1: Sensitivity Analyses"
      ]
    },
    {
      "cell_type": "markdown",
      "metadata": {
        "id": "Ew6qeXtRnlTU",
        "colab_type": "text"
      },
      "source": [
        "## 1. Write out the optimization problem. Make sure to detail the decision variables, the objective function and the constraints.\n",
        "\n",
        "### Decision Variables\n",
        "\\begin{equation}\n",
        "x_{ij}\\\\\n",
        "i=\\{1,2,3,4\\}, j=\\{1,2\\}\n",
        "\\end{equation}\n",
        "\n",
        "More specifically, \n",
        "\n",
        "Let $i=\\{1,2,3,4\\}$ be in the index for the advertisers such that\n",
        "* $i=1$ is GEICO\n",
        "* $i=2$ is Delta\n",
        "* $i=3$ is T-Mobile\n",
        "* $i=4$ is Capital One\n",
        "\n",
        "Let $j=\\{1,2\\}$ be the index for the category, such that\n",
        "* $j=1$ is Sports categorty\n",
        "* $j=2$ is National category\n",
        "\n",
        "So $x_{11}$ is the number of impressions for Geico in Sports and $x_{12}$ is the number of impressions for GEICO int he National category.\n",
        "\n",
        "\n",
        "### Objective Function\n",
        "\n",
        "The objective of the platform, i.e., Washington Post, is to maximize advertising revenues. These revenues are driven by the cost per click charged to the advertisers, i.e., $\\pi=\\$2.4$ and the click-through rates (CTR).\n",
        "\n",
        "Let $\\kappa_{ij}$ be the CTR of advertiser $i$ in category $j$. For instance, the CTR of T-Mobile in the sports category is $\\kappa_{31}=1.0\\%$, whereas its CTR in the National category is $\\kappa_{32}=3.0\\%$.\n",
        "\n",
        "The objective function is thus:\n",
        "\\begin{equation}\n",
        "\\text{Maximize} \\quad 2.4\\times \\sum_{i=1}^4\\sum_{j=1}^{2}  \\kappa_{ij}\\times x_{ij}\n",
        "\\end{equation}\n",
        "\n",
        "\\begin{equation}\n",
        "\\kappa^T=\n",
        "\\begin{bmatrix} 0.025 & 0.008 \\\\ 0.02 & 0.01 \\\\ 0.01 & 0.03 \\\\ 0.015 & 0.02 \\end{bmatrix}\n",
        "\\end{equation}\n",
        "\n",
        "\\begin{equation}\n",
        "x=\n",
        "\\begin{bmatrix} x_{11} & x_{21} \\\\ x_{21} & x_{22} \\\\ x_{31} & x_{32} \\\\ x_{41} & x_{42} \\end{bmatrix}\n",
        "\\end{equation}\n",
        "\n",
        "\n",
        "### Constraints\n",
        "The first table provides the following constraints\n",
        "\n",
        "\\begin{align}\n",
        "x_{11}&\\geq 2,000,000\\\\\n",
        "x_{12}&\\geq 1,000,000\\\\\n",
        "x_{22}&\\geq 1,000,000\\\\\n",
        "x_{21}+x_{22}&\\geq 2,000,000\\\\\n",
        "x_{31}&\\geq 1,000,000\\\\\n",
        "x_{32}&\\geq 1,000,000\\\\\n",
        "x_{31}+x_{32}&\\geq 3,000,000\\\\\n",
        "x_{41}+x_{42}&\\geq 2,000,000\\\\\n",
        "\\end{align}\n",
        "\n",
        "\"Assume that the Sports section gets six million views per day and the National section\n",
        "get five million views per day\"\n",
        "This statement gives two constraints:\n",
        "\\begin{align}\n",
        "\\sum_{i=1}^{4}x_{i1}&\\leq 6,000,000\\\\\n",
        "\\sum_{i=1}^{4}x_{i2}&\\leq 5,000,000\\\\\n",
        "\\end{align}\n",
        "\n",
        "Non-negativity constraints are\n",
        "\\begin{equation}\n",
        "x_{ij}\\geq 0\n",
        "\\end{equation}\n"
      ]
    },
    {
      "cell_type": "markdown",
      "metadata": {
        "id": "8kolu7g6sLE6",
        "colab_type": "text"
      },
      "source": [
        "## 2. What is the optimal solution? Give the values of the decision variables and the optimal objective function value."
      ]
    },
    {
      "cell_type": "code",
      "metadata": {
        "id": "FX0flHxiQGox",
        "colab_type": "code",
        "colab": {
          "base_uri": "https://localhost:8080/",
          "height": 71
        },
        "outputId": "e4cacab9-9c4b-4de8-ee5d-498cc04f19a5"
      },
      "source": [
        "# !pip install cvxpy\n",
        "import numpy \n",
        "import math\n",
        "import cvxpy as cvx\n",
        "from numpy import * \n",
        "from cvxpy import *\n",
        "import pandas as pd\n",
        "\n",
        "import seaborn as sns\n",
        "import matplotlib.pyplot as plt"
      ],
      "execution_count": 1,
      "outputs": [
        {
          "output_type": "stream",
          "text": [
            "/usr/local/lib/python3.6/dist-packages/statsmodels/tools/_testing.py:19: FutureWarning: pandas.util.testing is deprecated. Use the functions in the public API at pandas.testing instead.\n",
            "  import pandas.util.testing as tm\n"
          ],
          "name": "stderr"
        }
      ]
    },
    {
      "cell_type": "code",
      "metadata": {
        "id": "YQnD1DgmnnZ9",
        "colab_type": "code",
        "outputId": "d796781a-6122-4995-bcf7-5f58470f2ad6",
        "colab": {
          "base_uri": "https://localhost:8080/",
          "height": 153
        }
      },
      "source": [
        "# Click Through Rates\n",
        "kappa = matrix([[2.5,2.0,1.0,1.5],[0.8,1.0,3.0,2.0]])\n",
        "kappa1 = kappa[0]\n",
        "kappa2 = kappa[1]\n",
        "\n",
        "# Decision Variables\n",
        "x1 = cvx.Variable((4,1),integer = True)\n",
        "x2 = cvx.Variable((4,1),integer = True)\n",
        "\n",
        "# Objective Function\n",
        "Z1 = sum(kappa1*x1)*2.4/100 # Revenue for Sports\n",
        "Z2 = sum(kappa2*x2)*2.4/100 # Revenue for National\n",
        "objective = cvx.Maximize((Z1 + Z2))\n",
        "\n",
        "# Constraints\n",
        "c1=(sum(x1))<=6*1000000 # Capacity on Sports\n",
        "c2=(sum(x2))<=5*1000000 # Capacity on Sports\n",
        "c3=x1[0]>=2*1000000 # Geico must have at least 2m in Sports\n",
        "c4=x2[0]>=1*1000000 # Geico must have at least 1m in National\n",
        "c5=x2[1]>=1*1000000 # Delta must have at least 1m in National\n",
        "c6=x1[1]+x2[1]==2*1000000 # Delta's total number of impressions must be equal to 2m in total\n",
        "c7=x1[2]>=1*1000000 # T-mobile must have at least 1m impression in Sports\n",
        "c8=x2[2]>=1*1000000 # T-mobile must have at least 1m impression in National\n",
        "c9=x1[2]+x2[2]==3*1000000 # T-mobile's total number of impressions must be equal 3m in total\n",
        "c10=x1[3]+x2[3]==2*1000000 # Capital One's total number of impressions must be equal 2m in total\n",
        "c=[c1,c2,c3,c4,c5,c6,c7,c8,c9,c10,x1>=0,x2>=0] # Non-negativity constraints\n",
        "\n",
        "# Form and solve the problem\n",
        "prob = cvx.Problem(objective, c)\n",
        "result = prob.solve()\n",
        "\n",
        "# Create a summary table for decision variables\n",
        "summary_df = pd.DataFrame(columns = [\"Sports\", \"National\"], index = [\"GEICO\", \"Delta\", \"T-mobile\", \"Capital One\"])\n",
        "\n",
        "for i in range(4):\n",
        "  summary_df[\"Sports\"][i] = str(int(x1.value[i][0]))\n",
        "  summary_df[\"National\"][i] = str(int(x2.value[i][0]))\n",
        "\n",
        "# Print out the results\n",
        "print('The value of the decision variables are')\n",
        "print(summary_df)\n",
        "print('The optimal objective function value (revenue) is ')\n",
        "print(prob.value)"
      ],
      "execution_count": 2,
      "outputs": [
        {
          "output_type": "stream",
          "text": [
            "The value of the decision variables are\n",
            "              Sports National\n",
            "GEICO        3000000  1000000\n",
            "Delta        1000000  1000000\n",
            "T-mobile     1000000  2000000\n",
            "Capital One  1000000  1000000\n",
            "The optimal objective function value (revenue) is \n",
            "523200.0\n"
          ],
          "name": "stdout"
        }
      ]
    },
    {
      "cell_type": "markdown",
      "metadata": {
        "id": "OQme1M7r0FsK",
        "colab_type": "text"
      },
      "source": [
        "## 3. Conduct sensitivity analyses of the optimal solution to different click-through rates as given in the table below. Do one cell at time if you want, e.g., sensitivity of the solution to different CTRs for GEICO in the Sports section, then in the National section; then do the same for each advertiser."
      ]
    },
    {
      "cell_type": "code",
      "metadata": {
        "id": "CWB59XQP0M6J",
        "colab_type": "code",
        "colab": {}
      },
      "source": [
        "def opt_solution(sg=2.5, sd=2.0, st=1.0, sc=1.5, ng=0.8, nd=1.0, nt=3.0, nc=2.0):\n",
        "  # Click Through Rates\n",
        "  kappa = matrix([[sg,sd,st,sc],[ng,nd,nt,nc]])\n",
        "  kappa1 = kappa[0]\n",
        "  kappa2 = kappa[1]\n",
        "\n",
        "  # Decision Variables\n",
        "  x1 = cvx.Variable((4,1),integer = True)\n",
        "  x2 = cvx.Variable((4,1),integer = True)\n",
        "\n",
        "  # Objective Function\n",
        "  Z1 = sum(kappa1*x1)*2.4/100 # Revenue for Sports\n",
        "  Z2 = sum(kappa2*x2)*2.4/100 # Revenue for National\n",
        "  objective = cvx.Maximize((Z1 + Z2))\n",
        "\n",
        "  # Constraints\n",
        "  c1=(sum(x1))<=6*1000000 # Capacity on Sports\n",
        "  c2=(sum(x2))<=5*1000000 # Capacity on Sports\n",
        "  c3=x1[0]>=2*1000000 # Geico must have at least 2m in Sports\n",
        "  c4=x2[0]>=1*1000000 # Geico must have at least 1m in National\n",
        "  c5=x2[1]>=1*1000000 # Delta must have at least 1m in National\n",
        "  c6=x1[1]+x2[1]==2*1000000 # Delta's total number of impressions must be equal to 2m in total\n",
        "  c7=x1[2]>=1*1000000 # T-mobile must have at least 1m impression in Sports\n",
        "  c8=x2[2]>=1*1000000 # T-mobile must have at least 1m impression in National\n",
        "  c9=x1[2]+x2[2]==3*1000000 # T-mobile's total number of impressions must be equal 3m in total\n",
        "  c10=x1[3]+x2[3]==2*1000000 # Capital One's total number of impressions must be equal 2m in total\n",
        "  c=[c1,c2,c3,c4,c5,c6,c7,c8,c9,c10,x1>=0,x2>=0] # Non-negativity constraints\n",
        "\n",
        "  # Form and solve the problem\n",
        "  prob = cvx.Problem(objective, c)\n",
        "  result = prob.solve()\n",
        "\n",
        "  # Create a summary table for decision variables\n",
        "  summary_df = pd.DataFrame(columns = [\"Sports\", \"National\"], index = [\"GEICO\", \"Delta\", \"T-mobile\", \"Capital One\"])\n",
        "  for i in range(4):\n",
        "    summary_df[\"Sports\"][i] = str(int(x1.value[i][0]))\n",
        "    summary_df[\"National\"][i] = str(int(x2.value[i][0]))\n",
        "\n",
        "  return prob.value"
      ],
      "execution_count": 0,
      "outputs": []
    },
    {
      "cell_type": "code",
      "metadata": {
        "id": "xJLju3VAY9l2",
        "colab_type": "code",
        "colab": {}
      },
      "source": [
        "sensitivity = pd.DataFrame(columns={'Advertiser-Section','CTR','Optimal_Revenue'})\n",
        "sensitivity = sensitivity.rename(columns = {'CTR': 'CTR(%)'})"
      ],
      "execution_count": 0,
      "outputs": []
    },
    {
      "cell_type": "code",
      "metadata": {
        "id": "exLOPjDTXBOj",
        "colab_type": "code",
        "colab": {}
      },
      "source": [
        "## Geico-Sports\n",
        "for ctr in range(20,31,1):\n",
        "  sensitivity = sensitivity.append({'CTR(%)': ctr/10, 'Optimal_Revenue': opt_solution(sg=ctr/10), 'Advertiser-Section': 'Geico-Sports'}, ignore_index=True)\n",
        "\n",
        "## Geico-National\n",
        "for ctr in range(1,12,1):\n",
        "  sensitivity = sensitivity.append({'CTR(%)': ctr/10, 'Optimal_Revenue': opt_solution(ng=ctr/10), 'Advertiser-Section': 'Geico-National'}, ignore_index=True)\n",
        "\n",
        "## Delta-Sports\n",
        "for ctr in range(15,26,1):\n",
        "  sensitivity = sensitivity.append({'CTR(%)': ctr/10, 'Optimal_Revenue': opt_solution(sd=ctr/10), 'Advertiser-Section': 'Delta-Sports'}, ignore_index=True)\n",
        "\n",
        "## Delta-National\n",
        "for ctr in range(5,26,1):\n",
        "  sensitivity = sensitivity.append({'CTR(%)': ctr/10, 'Optimal_Revenue': opt_solution(nd=ctr/10), 'Advertiser-Section': 'Delta-National'}, ignore_index=True)\n",
        "\n",
        "## T-mobile-Sports\n",
        "for ctr in range(5,16,1):\n",
        "  sensitivity = sensitivity.append({'CTR(%)': ctr/10, 'Optimal_Revenue': opt_solution(st=ctr/10), 'Advertiser-Section': 'T-mobile-Sports'}, ignore_index=True)\n",
        "\n",
        "## T-mobile-National\n",
        "for ctr in range(25,36,1):\n",
        "  sensitivity = sensitivity.append({'CTR(%)': ctr/10, 'Optimal_Revenue': opt_solution(nt=ctr/10), 'Advertiser-Section': 'T-mobile-National'}, ignore_index=True)\n",
        "\n",
        "## Capital One-Sports\n",
        "for ctr in range(15,21,1):\n",
        "  sensitivity = sensitivity.append({'CTR(%)': ctr/10, 'Optimal_Revenue': opt_solution(sc=ctr/10), 'Advertiser-Section': 'Capital One-Sports'}, ignore_index=True)\n",
        "\n",
        "## Capital One-National\n",
        "for ctr in range(15,26,1):\n",
        "  sensitivity = sensitivity.append({'CTR(%)': ctr/10, 'Optimal_Revenue': opt_solution(nc=ctr/10), 'Advertiser-Section': 'Capital One-National'}, ignore_index=True)"
      ],
      "execution_count": 0,
      "outputs": []
    },
    {
      "cell_type": "code",
      "metadata": {
        "id": "aNitm50Cct-S",
        "colab_type": "code",
        "colab": {
          "base_uri": "https://localhost:8080/",
          "height": 102
        },
        "outputId": "5ebf9565-edf3-4c73-a568-97a4a3b22a27"
      },
      "source": [
        "## Calculate the % increase of optimal revenue per 0.1% increase of CTR\n",
        "sensitivity['Margin(%)'] = None\n",
        "\n",
        "for row in range(len(sensitivity)):\n",
        "  if row > 0 and sensitivity['Advertiser-Section'][row] == sensitivity['Advertiser-Section'][row-1]:\n",
        "    sensitivity['Margin(%)'][row] = 100*(sensitivity['Optimal_Revenue'][row]/sensitivity['Optimal_Revenue'][row-1]-1)\n",
        "  else:\n",
        "    continue"
      ],
      "execution_count": 6,
      "outputs": [
        {
          "output_type": "stream",
          "text": [
            "/usr/local/lib/python3.6/dist-packages/ipykernel_launcher.py:6: SettingWithCopyWarning: \n",
            "A value is trying to be set on a copy of a slice from a DataFrame\n",
            "\n",
            "See the caveats in the documentation: https://pandas.pydata.org/pandas-docs/stable/user_guide/indexing.html#returning-a-view-versus-a-copy\n",
            "  \n"
          ],
          "name": "stderr"
        }
      ]
    },
    {
      "cell_type": "code",
      "metadata": {
        "id": "LJ6sBGhlXP6a",
        "colab_type": "code",
        "outputId": "42a17e7e-fe4b-4d9b-d45d-e25461622f24",
        "colab": {
          "base_uri": "https://localhost:8080/",
          "height": 419
        }
      },
      "source": [
        "## Round the Optimal_revenue\n",
        "sensitivity['Optimal_Revenue'] = round(sensitivity['Optimal_Revenue'], 0)\n",
        "\n",
        "# sensitivity.to_csv('sensitivity.csv') ## to see the whole table\n",
        "sensitivity"
      ],
      "execution_count": 7,
      "outputs": [
        {
          "output_type": "execute_result",
          "data": {
            "text/html": [
              "<div>\n",
              "<style scoped>\n",
              "    .dataframe tbody tr th:only-of-type {\n",
              "        vertical-align: middle;\n",
              "    }\n",
              "\n",
              "    .dataframe tbody tr th {\n",
              "        vertical-align: top;\n",
              "    }\n",
              "\n",
              "    .dataframe thead th {\n",
              "        text-align: right;\n",
              "    }\n",
              "</style>\n",
              "<table border=\"1\" class=\"dataframe\">\n",
              "  <thead>\n",
              "    <tr style=\"text-align: right;\">\n",
              "      <th></th>\n",
              "      <th>Advertiser-Section</th>\n",
              "      <th>CTR(%)</th>\n",
              "      <th>Optimal_Revenue</th>\n",
              "      <th>Margin(%)</th>\n",
              "    </tr>\n",
              "  </thead>\n",
              "  <tbody>\n",
              "    <tr>\n",
              "      <th>0</th>\n",
              "      <td>Geico-Sports</td>\n",
              "      <td>2.0</td>\n",
              "      <td>487200.0</td>\n",
              "      <td>None</td>\n",
              "    </tr>\n",
              "    <tr>\n",
              "      <th>1</th>\n",
              "      <td>Geico-Sports</td>\n",
              "      <td>2.1</td>\n",
              "      <td>494400.0</td>\n",
              "      <td>1.47783</td>\n",
              "    </tr>\n",
              "    <tr>\n",
              "      <th>2</th>\n",
              "      <td>Geico-Sports</td>\n",
              "      <td>2.2</td>\n",
              "      <td>501600.0</td>\n",
              "      <td>1.45631</td>\n",
              "    </tr>\n",
              "    <tr>\n",
              "      <th>3</th>\n",
              "      <td>Geico-Sports</td>\n",
              "      <td>2.3</td>\n",
              "      <td>508800.0</td>\n",
              "      <td>1.43541</td>\n",
              "    </tr>\n",
              "    <tr>\n",
              "      <th>4</th>\n",
              "      <td>Geico-Sports</td>\n",
              "      <td>2.4</td>\n",
              "      <td>516000.0</td>\n",
              "      <td>1.41509</td>\n",
              "    </tr>\n",
              "    <tr>\n",
              "      <th>...</th>\n",
              "      <td>...</td>\n",
              "      <td>...</td>\n",
              "      <td>...</td>\n",
              "      <td>...</td>\n",
              "    </tr>\n",
              "    <tr>\n",
              "      <th>88</th>\n",
              "      <td>Capital One-National</td>\n",
              "      <td>2.1</td>\n",
              "      <td>525600.0</td>\n",
              "      <td>0.458716</td>\n",
              "    </tr>\n",
              "    <tr>\n",
              "      <th>89</th>\n",
              "      <td>Capital One-National</td>\n",
              "      <td>2.2</td>\n",
              "      <td>528000.0</td>\n",
              "      <td>0.456621</td>\n",
              "    </tr>\n",
              "    <tr>\n",
              "      <th>90</th>\n",
              "      <td>Capital One-National</td>\n",
              "      <td>2.3</td>\n",
              "      <td>530400.0</td>\n",
              "      <td>0.454545</td>\n",
              "    </tr>\n",
              "    <tr>\n",
              "      <th>91</th>\n",
              "      <td>Capital One-National</td>\n",
              "      <td>2.4</td>\n",
              "      <td>532800.0</td>\n",
              "      <td>0.452489</td>\n",
              "    </tr>\n",
              "    <tr>\n",
              "      <th>92</th>\n",
              "      <td>Capital One-National</td>\n",
              "      <td>2.5</td>\n",
              "      <td>535200.0</td>\n",
              "      <td>0.45045</td>\n",
              "    </tr>\n",
              "  </tbody>\n",
              "</table>\n",
              "<p>93 rows × 4 columns</p>\n",
              "</div>"
            ],
            "text/plain": [
              "      Advertiser-Section  CTR(%)  Optimal_Revenue Margin(%)\n",
              "0           Geico-Sports     2.0         487200.0      None\n",
              "1           Geico-Sports     2.1         494400.0   1.47783\n",
              "2           Geico-Sports     2.2         501600.0   1.45631\n",
              "3           Geico-Sports     2.3         508800.0   1.43541\n",
              "4           Geico-Sports     2.4         516000.0   1.41509\n",
              "..                   ...     ...              ...       ...\n",
              "88  Capital One-National     2.1         525600.0  0.458716\n",
              "89  Capital One-National     2.2         528000.0  0.456621\n",
              "90  Capital One-National     2.3         530400.0  0.454545\n",
              "91  Capital One-National     2.4         532800.0  0.452489\n",
              "92  Capital One-National     2.5         535200.0   0.45045\n",
              "\n",
              "[93 rows x 4 columns]"
            ]
          },
          "metadata": {
            "tags": []
          },
          "execution_count": 7
        }
      ]
    },
    {
      "cell_type": "markdown",
      "metadata": {
        "id": "U89eqJKK0GcO",
        "colab_type": "text"
      },
      "source": [
        "## 4. Write no more than one paragraph (no more than 300 words) to describe the results of your analyses. Tables or graphs can be provided as supplemental material."
      ]
    },
    {
      "cell_type": "code",
      "metadata": {
        "id": "yrLEi4q2lyzj",
        "colab_type": "code",
        "colab": {
          "base_uri": "https://localhost:8080/",
          "height": 621
        },
        "outputId": "9c9816d1-3f69-4bcc-d5f6-3461e8223bed"
      },
      "source": [
        "## Trend of optimal revenue for each Advertiser-Section\n",
        "fig, ax = plt.subplots(figsize = (22,10))\n",
        "\n",
        "i = 0\n",
        "for adsec in sensitivity['Advertiser-Section'].unique():\n",
        "  trend = sensitivity[sensitivity['Advertiser-Section'] == adsec]\n",
        "  plt.subplot(2,4,i+1)\n",
        "  plt.plot(trend['CTR(%)'], trend['Optimal_Revenue'])\n",
        "  plt.title(str(adsec)+' Optimal Revenue Trend')\n",
        "  plt.xlabel(\"CTR(%)\")\n",
        "  i = i + 1"
      ],
      "execution_count": 8,
      "outputs": [
        {
          "output_type": "display_data",
          "data": {
            "image/png": "[encoded data removed]",
            "text/plain": [
              "<Figure size 1584x720 with 8 Axes>"
            ]
          },
          "metadata": {
            "tags": [],
            "needs_background": "light"
          }
        }
      ]
    },
    {
      "cell_type": "code",
      "metadata": {
        "id": "tZMqCabzhakR",
        "colab_type": "code",
        "colab": {
          "base_uri": "https://localhost:8080/",
          "height": 621
        },
        "outputId": "6e274cdf-d730-4efa-e3d9-f52993b7cb53"
      },
      "source": [
        "## Trend of Margin(%) for each Advertiser-Section\n",
        "fig, ax = plt.subplots(figsize = (22,10))\n",
        "\n",
        "i = 0\n",
        "for adsec in sensitivity['Advertiser-Section'].unique():\n",
        "  trend = sensitivity[sensitivity['Advertiser-Section'] == adsec]\n",
        "  plt.subplot(2,4,i+1)\n",
        "  plt.plot(trend['CTR(%)'], trend['Margin(%)'])\n",
        "  plt.title(str(adsec)+' Margin(%) Trend')\n",
        "  plt.xlabel(\"CTR(%)\")\n",
        "  i = i + 1"
      ],
      "execution_count": 9,
      "outputs": [
        {
          "output_type": "display_data",
          "data": {
            "image/png": "[encoded data removed]",
            "text/plain": [
              "<Figure size 1584x720 with 8 Axes>"
            ]
          },
          "metadata": {
            "tags": [],
            "needs_background": "light"
          }
        }
      ]
    },
    {
      "cell_type": "markdown",
      "metadata": {
        "id": "a4Zn0qkIodKc",
        "colab_type": "text"
      },
      "source": [
        "Generally the optimal revenue increases with the increase of the CTR of each company in each section. But the [% increase of optimal revenue per 0.1% increase of CTR] decreases, in other words, the marginal gain (increase of optimal revenue) of increasing CTR by 0.1% decreases for each company-section. In addition, among the Margin(%)s of all company-sections, Geico-Sports has the largest value, followed by T-mobile-National, while the others are basically the same. So, to increase revenue, increasing the CTR of Geico-Sports could be considered first, followed by T-mobile-National."
      ]
    },
    {
      "cell_type": "markdown",
      "metadata": {
        "id": "_uuJLQRYodan",
        "colab_type": "text"
      },
      "source": [
        "# Exercise 2: Operations Excellence"
      ]
    },
    {
      "cell_type": "markdown",
      "metadata": {
        "id": "idj_bK2eoy9U",
        "colab_type": "text"
      },
      "source": [
        "## 1. Write the optimization models for each plant, i.e., make sure to detail the decision variables, the objective function and the constraints."
      ]
    },
    {
      "cell_type": "markdown",
      "metadata": {
        "id": "kC_UEWTWGeMM",
        "colab_type": "text"
      },
      "source": [
        "### Plant A\n",
        "#### 1. Decision Variables\n",
        "\\begin{equation}\n",
        "x_{1}: \\text{Number of standard products made in Plant A}\\\\ \n",
        "x_{2}: \\text{Number of deluxe products made in Plant A}\\\\\n",
        "\\end{equation}\n",
        "#### 2. Objective Function\n",
        "\\begin{equation}\n",
        "\\text{Maximize} \\quad 10x_{1}+15x_{2}\n",
        "\\end{equation}\n",
        "#### 3. Constraints\n",
        "Capacity Limits for each process  \n",
        "Grinding: \\begin{equation}4x_{1}+2x_{2}\\leq80\\end{equation}  \n",
        "Polishing: \\begin{equation}2x_{1}+5x_{2}\\leq60\\end{equation}  \n",
        "Raw material Limit: \\begin{equation}4x_{1}+4x_{2}\\leq75\\end{equation}  \n",
        "Non-negativity constriants: \\begin{equation}x_{1},x_{2}\\geq0\\end{equation}  \n",
        "### Plant B\n",
        "#### 1. Decision Variables\n",
        "\\begin{equation}\n",
        "y_{1}: \\text{Number of standard products made in Plant B}\\\\ \n",
        "y_{2}: \\text{Number of deluxe products made in Plant B}\\\\\n",
        "\\end{equation}\n",
        "#### 2. Objective Function\n",
        "\\begin{equation}\n",
        "\\text{Maximize} \\quad 10y_{1}+15y_{2}\n",
        "\\end{equation}\n",
        "#### 3. Constraints\n",
        "Capacity Limits for each process  \n",
        "Grinding: \\begin{equation}5y_{1}+3y_{2}\\leq60\\end{equation}\n",
        "Polishing: \\begin{equation}5y_{1}+6y_{2}\\leq75\\end{equation}  \n",
        "Raw material Limit: \\begin{equation}4y_{1}+4y_{2}\\leq45\\end{equation}  \n",
        "Non-negativity constriants: \\begin{equation}y_{1},y_{2}\\geq0\\end{equation} "
      ]
    },
    {
      "cell_type": "markdown",
      "metadata": {
        "id": "LInTRzKnoy__",
        "colab_type": "text"
      },
      "source": [
        "## 2. Provide the optimal solutions and profit levels for each factory. Give the values of the decision variables and the optimal objective function value."
      ]
    },
    {
      "cell_type": "markdown",
      "metadata": {
        "id": "rzidK-a9PG9U",
        "colab_type": "text"
      },
      "source": [
        "### Plant A"
      ]
    },
    {
      "cell_type": "code",
      "metadata": {
        "id": "5VKo0pqYo_wK",
        "colab_type": "code",
        "outputId": "58dc4c22-b84b-434b-b27e-89c881238bfb",
        "colab": {
          "base_uri": "https://localhost:8080/",
          "height": 119
        }
      },
      "source": [
        "# Decision Variables\n",
        "x1 = cvx.Variable(1, integer = True)\n",
        "x2 = cvx.Variable(1, integer = True)\n",
        "\n",
        "# Objective Function\n",
        "objective = cvx.Maximize(10*x1+15*x2)\n",
        "\n",
        "# Constraints\n",
        "c1=4*x1+2*x2<=80 # Grinding capacity limit\n",
        "c2=2*x1+5*x2<=60 # Polishing capacity limit\n",
        "c3=4*x1+4*x2<=75 # Raw material limit\n",
        "c=[c1,c2,c3,x1>=0,x2>=0] # Non-negativity constraints\n",
        "\n",
        "# Form and solve the problem\n",
        "prob = cvx.Problem(objective, c)\n",
        "result = prob.solve()\n",
        "\n",
        "# Print out the results\n",
        "print('The optimal production of the standard products in Plant A is')\n",
        "print(x1.value[0])\n",
        "print('The optimal production of the deluxe products in Plant A is')\n",
        "print(x2.value[0])\n",
        "print('The optimal objective function value (profit) is ')\n",
        "print(prob.value)"
      ],
      "execution_count": 10,
      "outputs": [
        {
          "output_type": "stream",
          "text": [
            "The optimal production of the standard products in Plant A is\n",
            "10.0\n",
            "The optimal production of the deluxe products in Plant A is\n",
            "8.0\n",
            "The optimal objective function value (profit) is \n",
            "220.0\n"
          ],
          "name": "stdout"
        }
      ]
    },
    {
      "cell_type": "markdown",
      "metadata": {
        "id": "Qu97CpGoPKfU",
        "colab_type": "text"
      },
      "source": [
        "### Plant B"
      ]
    },
    {
      "cell_type": "code",
      "metadata": {
        "id": "yi1gwLRro_yi",
        "colab_type": "code",
        "outputId": "4e2b2fd1-5fd8-4e52-86a9-528fd9a96d64",
        "colab": {
          "base_uri": "https://localhost:8080/",
          "height": 119
        }
      },
      "source": [
        "# Decision Variables\n",
        "y1 = cvx.Variable(1, integer = True)\n",
        "y2 = cvx.Variable(1, integer = True)\n",
        "\n",
        "# Objective Function\n",
        "objective = cvx.Maximize(10*y1+15*y2)\n",
        "\n",
        "# Constraints\n",
        "c1=5*y1+3*y2<=60 # Grinding capacity limit\n",
        "c2=5*y1+6*y2<=75 # Polishing capacity limit\n",
        "c3=4*y1+4*y2<=45 # Raw material limit\n",
        "c=[c1,c2,c3,y1>=0,y2>=0] # Non-negativity constraints\n",
        "\n",
        "# Form and solve the problem\n",
        "prob = cvx.Problem(objective, c)\n",
        "result = prob.solve()\n",
        "\n",
        "# Print out the results\n",
        "print('The optimal production of the standard products in Plant B is')\n",
        "print(y1.value[0])\n",
        "print('The optimal production of the deluxe products in Plant B is')\n",
        "print(y2.value[0])\n",
        "print('The optimal objective function value (profit) is ')\n",
        "print(prob.value)"
      ],
      "execution_count": 11,
      "outputs": [
        {
          "output_type": "stream",
          "text": [
            "The optimal production of the standard products in Plant B is\n",
            "0.0\n",
            "The optimal production of the deluxe products in Plant B is\n",
            "11.0\n",
            "The optimal objective function value (profit) is \n",
            "165.0\n"
          ],
          "name": "stdout"
        }
      ]
    },
    {
      "cell_type": "markdown",
      "metadata": {
        "id": "nGL0D-ihozCb",
        "colab_type": "text"
      },
      "source": [
        "## 3. Now, write the optimization model for the joint optimization of Plant A and B, and provide the optimal solution and profit levels."
      ]
    },
    {
      "cell_type": "markdown",
      "metadata": {
        "id": "ONgTSTqAQpcF",
        "colab_type": "text"
      },
      "source": [
        "### Optimization Model\n",
        "#### 1. Decision Variables\n",
        "\n",
        "| Plant | Standard | Deluxe      \n",
        "| :---:|:---: | :---:\n",
        "| Plant A | $x_{11}$ | $x_{12}$\n",
        "| Plant B | $x_{21}$ | $x_{22}$\n",
        "\n",
        "\\begin{equation}\n",
        "x_{11}: \\text{Number of standard products made in Plant A}  \\\\\n",
        "x_{12}: \\text{Number of deluxe products made in Plant A}  \\\\\n",
        "x_{21}: \\text{Number of standard products made in Plant B}  \\\\\n",
        "x_{22}: \\text{Number of deluxe products made in Plant B}\n",
        "\\end{equation}\n",
        "#### 2. Objective Function\n",
        "\\begin{equation}\n",
        "\\text{Maximize} \\quad 10(x_{11}+x_{21})+15(x_{12}+x_{22})\n",
        "\\end{equation}\n",
        "#### 3. Constraints\n",
        "Capacity Limits for each process  \n",
        "Grinding: \n",
        "\\begin{equation}\n",
        "4x_{11}+2x_{12}\\leq80\\\\\n",
        "5x_{21}+3x_{22}\\leq60\n",
        "\\end{equation}  \n",
        "Polishing: \n",
        "\\begin{equation}\n",
        "2x_{11}+5x_{12}\\leq60\\\\\n",
        "5x_{21}+6x_{22}\\leq75\n",
        "\\end{equation}  \n",
        "Raw material Limit: \n",
        "\\begin{equation}\n",
        "4x_{11}+4x_{12}+4x_{21}+4x_{22}\\leq120\n",
        "\\end{equation}  \n",
        "Non-negativity constriants: \n",
        "\\begin{equation}\n",
        "x_{11},x_{12},x_{21},x_{22}\\geq0\n",
        "\\end{equation} \n"
      ]
    },
    {
      "cell_type": "markdown",
      "metadata": {
        "id": "kCzaLVzdSPKA",
        "colab_type": "text"
      },
      "source": [
        "### Optimal Solution and Profit Level"
      ]
    },
    {
      "cell_type": "code",
      "metadata": {
        "id": "KaAdmitopAXu",
        "colab_type": "code",
        "outputId": "26e34e3a-652d-421f-a10f-d9cc359bc8e4",
        "colab": {
          "base_uri": "https://localhost:8080/",
          "height": 119
        }
      },
      "source": [
        "# Decision Variables\n",
        "x11 = cvx.Variable(1, integer = True)\n",
        "x12 = cvx.Variable(1, integer = True)\n",
        "x21 = cvx.Variable(1, integer = True)\n",
        "x22 = cvx.Variable(1, integer = True)\n",
        "\n",
        "# Objective Function\n",
        "objective = cvx.Maximize(10*x11+10*x21+15*x12+15*x22)\n",
        "\n",
        "# Constraints\n",
        "c1=4*x11+2*x12<=80 # Grinding capacity limit for Plant A\n",
        "c2=5*x21+3*x22<=60 # Grinding capacity limit for Plant B\n",
        "c3=2*x11+5*x12<=60 # Polishing capacity limit for Plant A\n",
        "c4=5*x21+6*x22<=75 # Polishing capacity limit for Plant B\n",
        "c5=4*x11+4*x12+4*x21+4*x22<=120 # Raw material limit\n",
        "c=[c1,c2,c3,c4,c5,x11>=0,x12>=0,x21>=0,x22>=0] # Non-negativity constraints\n",
        "\n",
        "# Form and solve the problem\n",
        "prob = cvx.Problem(objective, c)\n",
        "result = prob.solve()\n",
        "\n",
        "# Create a summary table\n",
        "summary_df = pd.DataFrame(columns = ['Standard', 'Deluxe'], index = ['Plant A', 'Plant B'])\n",
        "summary_df.iloc[0,0] = x11.value[0]\n",
        "summary_df.iloc[0,1] = x12.value[0]\n",
        "summary_df.iloc[1,0] = x21.value[0]\n",
        "summary_df.iloc[1,1] = x22.value[0]\n",
        "\n",
        "# Print out the results\n",
        "print('The optimal values for the decision variables are')\n",
        "print(summary_df)\n",
        "print('The optimal objective function value (profit) is ')\n",
        "print(prob.value)"
      ],
      "execution_count": 12,
      "outputs": [
        {
          "output_type": "stream",
          "text": [
            "The optimal values for the decision variables are\n",
            "        Standard Deluxe\n",
            "Plant A       10      8\n",
            "Plant B        0     12\n",
            "The optimal objective function value (profit) is \n",
            "400.0\n"
          ],
          "name": "stdout"
        }
      ]
    },
    {
      "cell_type": "markdown",
      "metadata": {
        "id": "8YEpucu3ozE5",
        "colab_type": "text"
      },
      "source": [
        "## 4. Please comment on the results? How do they compare to the results obtained in Question 2."
      ]
    },
    {
      "cell_type": "markdown",
      "metadata": {
        "id": "61SgFAm7Ud82",
        "colab_type": "text"
      },
      "source": [
        "The optimal values for Plant A remain the same, while the optimal values for Plant B's production allocation on the deluxe product increase by one unit, and the overall profit increase from 385 (220+165) to 400."
      ]
    },
    {
      "cell_type": "markdown",
      "metadata": {
        "id": "nH2Ac5QKozHW",
        "colab_type": "text"
      },
      "source": [
        "## 5. In one paragraph (no more than 300 words), detail the recommendations you would provide to the CEO of the company to improve the firm’s operations?"
      ]
    },
    {
      "cell_type": "markdown",
      "metadata": {
        "id": "H1csD6XDozKN",
        "colab_type": "text"
      },
      "source": [
        "We should decide on the optimal allocation of production by the joint optimization of Plant A and B rather than separately, because the overall profit will be maximized and the resources will be fully utilized as possible.  \n",
        "According the result of the optimization model, we should make 10 standard products and 8 deluxe products in Plant A, and 0 standard product and 12 deluxe products in Plant B per week to reach the maximum total profit of $400."
      ]
    },
    {
      "cell_type": "markdown",
      "metadata": {
        "id": "v_9RavnJpCKJ",
        "colab_type": "text"
      },
      "source": [
        "# Exercise 3: Hotel La Quinta Motor Inns (LQM)\n",
        "\\begin{equation}\n",
        "\\text{Profitability}=39.05-(5.41\\times\\text{State Population per Inn})+(5.86\\times\\text{Price of the Inn})-(3.09\\times\\text{Square Root of the Median Income in the area})+(1.75\\times\\text{College Student in the Area})\n",
        "\\end{equation}\n"
      ]
    },
    {
      "cell_type": "markdown",
      "metadata": {
        "id": "3e3oueOmpF-f",
        "colab_type": "text"
      },
      "source": [
        "## 1. According to the regression equation given above, which variable positively affect Profitability? Which variable negatively affect Profitability? Does this intuitively make sense? Why?"
      ]
    },
    {
      "cell_type": "markdown",
      "metadata": {
        "id": "-hEYJUqnXoT2",
        "colab_type": "text"
      },
      "source": [
        "'Price of the Inn' and 'College Student in the Area' positively affect profitability, while 'State Population per Inn' and 'Square Root of the Median Income in the Area' negatively affect profitability.  \n",
        "This intuitively makes sense, because higher price generally means better decoration and equipments which will make the inn more popular, college students increase the demand of rooms, while high state population per inn means the number of inns is small and people are not that willing to go to inns, and higher median income means people are richer and will probably go to hotels rather than cheap inns."
      ]
    },
    {
      "cell_type": "markdown",
      "metadata": {
        "id": "hdgwWeQXpGBe",
        "colab_type": "text"
      },
      "source": [
        "## 2. Using this regression equation, LQM created a spreadsheet model to predict profitability. LQM collected data for several locations in California, which is provided in the excel spreadsheet on Canvas “LQM”. Using this spreadsheet, compute the profitability for each hotel. Which one has the highest profitability? Which one has the lowest profitability?"
      ]
    },
    {
      "cell_type": "code",
      "metadata": {
        "id": "NR_VsmmZqNLs",
        "colab_type": "code",
        "colab": {}
      },
      "source": [
        "# Read the file and rename the columns\n",
        "lqm = pd.read_excel('https://raw.githubusercontent.com/haohao13/optimization/master/SelectingHotels%20-%20Part%20A%20of%20Homework.xlsx', skiprows = 2)\n",
        "lqm = lqm.rename(columns = {'Price (normalized)': 'price_norm', 'Square Root of Median Income (normalized)': 'sqrt_median_income',\n",
        "                            'College Students in Area (normalized)': 'collegestudents', 'State Population Per Inn (normalized)': 'statepopperinn'})"
      ],
      "execution_count": 0,
      "outputs": []
    },
    {
      "cell_type": "code",
      "metadata": {
        "id": "qC3tUU7od04x",
        "colab_type": "code",
        "outputId": "5ccbc181-1da8-4fd9-f2d9-c3337b9acafd",
        "colab": {
          "base_uri": "https://localhost:8080/",
          "height": 545
        }
      },
      "source": [
        "# Calculate the profitability for each hotel\n",
        "lqm['profitability']=39.05-5.41*lqm['statepopperinn']+5.86*lqm['price_norm']-3.09*lqm['sqrt_median_income']+1.75*lqm['collegestudents']\n",
        "\n",
        "# Sort the hotels by descending order of the profitability of each hotel\n",
        "lqm = lqm.sort_values('profitability', ascending=0)\n",
        "lqm = lqm.reset_index().drop('index', axis = 1)\n",
        "\n",
        "lqm"
      ],
      "execution_count": 14,
      "outputs": [
        {
          "output_type": "execute_result",
          "data": {
            "text/html": [
              "<div>\n",
              "<style scoped>\n",
              "    .dataframe tbody tr th:only-of-type {\n",
              "        vertical-align: middle;\n",
              "    }\n",
              "\n",
              "    .dataframe tbody tr th {\n",
              "        vertical-align: top;\n",
              "    }\n",
              "\n",
              "    .dataframe thead th {\n",
              "        text-align: right;\n",
              "    }\n",
              "</style>\n",
              "<table border=\"1\" class=\"dataframe\">\n",
              "  <thead>\n",
              "    <tr style=\"text-align: right;\">\n",
              "      <th></th>\n",
              "      <th>Hotel</th>\n",
              "      <th>Location</th>\n",
              "      <th>Price</th>\n",
              "      <th>price_norm</th>\n",
              "      <th>sqrt_median_income</th>\n",
              "      <th>collegestudents</th>\n",
              "      <th>statepopperinn</th>\n",
              "      <th>profitability</th>\n",
              "    </tr>\n",
              "  </thead>\n",
              "  <tbody>\n",
              "    <tr>\n",
              "      <th>0</th>\n",
              "      <td>2</td>\n",
              "      <td>Fresno, California</td>\n",
              "      <td>10000000</td>\n",
              "      <td>1.699076</td>\n",
              "      <td>-0.408199</td>\n",
              "      <td>0.311669</td>\n",
              "      <td>-0.474279</td>\n",
              "      <td>53.379192</td>\n",
              "    </tr>\n",
              "    <tr>\n",
              "      <th>1</th>\n",
              "      <td>6</td>\n",
              "      <td>Long Beach, California</td>\n",
              "      <td>8950000</td>\n",
              "      <td>1.402123</td>\n",
              "      <td>0.657845</td>\n",
              "      <td>0.483711</td>\n",
              "      <td>-0.557278</td>\n",
              "      <td>49.095069</td>\n",
              "    </tr>\n",
              "    <tr>\n",
              "      <th>2</th>\n",
              "      <td>1</td>\n",
              "      <td>Eureka, California</td>\n",
              "      <td>2925000</td>\n",
              "      <td>-0.301823</td>\n",
              "      <td>-0.812780</td>\n",
              "      <td>-0.536413</td>\n",
              "      <td>-0.995987</td>\n",
              "      <td>44.242369</td>\n",
              "    </tr>\n",
              "    <tr>\n",
              "      <th>3</th>\n",
              "      <td>3</td>\n",
              "      <td>Fresno, California</td>\n",
              "      <td>3750000</td>\n",
              "      <td>-0.068503</td>\n",
              "      <td>-0.408199</td>\n",
              "      <td>0.311669</td>\n",
              "      <td>-0.474279</td>\n",
              "      <td>43.021179</td>\n",
              "    </tr>\n",
              "    <tr>\n",
              "      <th>4</th>\n",
              "      <td>4</td>\n",
              "      <td>Fresno, California</td>\n",
              "      <td>3500000</td>\n",
              "      <td>-0.139206</td>\n",
              "      <td>-0.408199</td>\n",
              "      <td>0.311669</td>\n",
              "      <td>-0.474279</td>\n",
              "      <td>42.606858</td>\n",
              "    </tr>\n",
              "    <tr>\n",
              "      <th>5</th>\n",
              "      <td>14</td>\n",
              "      <td>South Lake Tahoe, California</td>\n",
              "      <td>3750000</td>\n",
              "      <td>-0.068503</td>\n",
              "      <td>-0.791006</td>\n",
              "      <td>-0.594905</td>\n",
              "      <td>-0.426851</td>\n",
              "      <td>42.360966</td>\n",
              "    </tr>\n",
              "    <tr>\n",
              "      <th>6</th>\n",
              "      <td>12</td>\n",
              "      <td>South Lake Tahoe, California</td>\n",
              "      <td>2500000</td>\n",
              "      <td>-0.422019</td>\n",
              "      <td>-0.791006</td>\n",
              "      <td>-0.594905</td>\n",
              "      <td>-0.426851</td>\n",
              "      <td>40.289363</td>\n",
              "    </tr>\n",
              "    <tr>\n",
              "      <th>7</th>\n",
              "      <td>13</td>\n",
              "      <td>South Lake Tahoe, California</td>\n",
              "      <td>1975000</td>\n",
              "      <td>-0.570495</td>\n",
              "      <td>-0.791006</td>\n",
              "      <td>-0.594905</td>\n",
              "      <td>-0.426851</td>\n",
              "      <td>39.419290</td>\n",
              "    </tr>\n",
              "    <tr>\n",
              "      <th>8</th>\n",
              "      <td>10</td>\n",
              "      <td>South Lake Tahoe, California</td>\n",
              "      <td>1650000</td>\n",
              "      <td>-0.662409</td>\n",
              "      <td>-0.791006</td>\n",
              "      <td>-0.594905</td>\n",
              "      <td>-0.426851</td>\n",
              "      <td>38.880673</td>\n",
              "    </tr>\n",
              "    <tr>\n",
              "      <th>9</th>\n",
              "      <td>15</td>\n",
              "      <td>South Lake Tahoe, California</td>\n",
              "      <td>1475000</td>\n",
              "      <td>-0.711902</td>\n",
              "      <td>-0.791006</td>\n",
              "      <td>-0.594905</td>\n",
              "      <td>-0.426851</td>\n",
              "      <td>38.590649</td>\n",
              "    </tr>\n",
              "    <tr>\n",
              "      <th>10</th>\n",
              "      <td>11</td>\n",
              "      <td>South Lake Tahoe, California</td>\n",
              "      <td>1125000</td>\n",
              "      <td>-0.810886</td>\n",
              "      <td>-0.791006</td>\n",
              "      <td>-0.594905</td>\n",
              "      <td>-0.426851</td>\n",
              "      <td>38.010600</td>\n",
              "    </tr>\n",
              "    <tr>\n",
              "      <th>11</th>\n",
              "      <td>16</td>\n",
              "      <td>South Lake Tahoe, California</td>\n",
              "      <td>750000</td>\n",
              "      <td>-0.916941</td>\n",
              "      <td>-0.791006</td>\n",
              "      <td>-0.594905</td>\n",
              "      <td>-0.426851</td>\n",
              "      <td>37.389119</td>\n",
              "    </tr>\n",
              "    <tr>\n",
              "      <th>12</th>\n",
              "      <td>5</td>\n",
              "      <td>Fresno, California</td>\n",
              "      <td>325000</td>\n",
              "      <td>-1.037136</td>\n",
              "      <td>-0.408199</td>\n",
              "      <td>0.311669</td>\n",
              "      <td>-0.474279</td>\n",
              "      <td>37.344988</td>\n",
              "    </tr>\n",
              "    <tr>\n",
              "      <th>13</th>\n",
              "      <td>9</td>\n",
              "      <td>Los Angeles, California</td>\n",
              "      <td>4900000</td>\n",
              "      <td>0.256732</td>\n",
              "      <td>0.167686</td>\n",
              "      <td>3.106215</td>\n",
              "      <td>3.106530</td>\n",
              "      <td>28.665848</td>\n",
              "    </tr>\n",
              "    <tr>\n",
              "      <th>14</th>\n",
              "      <td>7</td>\n",
              "      <td>Los Angeles, California</td>\n",
              "      <td>1950000</td>\n",
              "      <td>-0.577566</td>\n",
              "      <td>0.167686</td>\n",
              "      <td>3.106215</td>\n",
              "      <td>3.106530</td>\n",
              "      <td>23.776866</td>\n",
              "    </tr>\n",
              "    <tr>\n",
              "      <th>15</th>\n",
              "      <td>8</td>\n",
              "      <td>Los Angeles, California</td>\n",
              "      <td>1750000</td>\n",
              "      <td>-0.634128</td>\n",
              "      <td>0.167686</td>\n",
              "      <td>3.106215</td>\n",
              "      <td>3.106530</td>\n",
              "      <td>23.445409</td>\n",
              "    </tr>\n",
              "  </tbody>\n",
              "</table>\n",
              "</div>"
            ],
            "text/plain": [
              "    Hotel                      Location  ...  statepopperinn  profitability\n",
              "0       2            Fresno, California  ...       -0.474279      53.379192\n",
              "1       6        Long Beach, California  ...       -0.557278      49.095069\n",
              "2       1            Eureka, California  ...       -0.995987      44.242369\n",
              "3       3            Fresno, California  ...       -0.474279      43.021179\n",
              "4       4            Fresno, California  ...       -0.474279      42.606858\n",
              "5      14  South Lake Tahoe, California  ...       -0.426851      42.360966\n",
              "6      12  South Lake Tahoe, California  ...       -0.426851      40.289363\n",
              "7      13  South Lake Tahoe, California  ...       -0.426851      39.419290\n",
              "8      10  South Lake Tahoe, California  ...       -0.426851      38.880673\n",
              "9      15  South Lake Tahoe, California  ...       -0.426851      38.590649\n",
              "10     11  South Lake Tahoe, California  ...       -0.426851      38.010600\n",
              "11     16  South Lake Tahoe, California  ...       -0.426851      37.389119\n",
              "12      5            Fresno, California  ...       -0.474279      37.344988\n",
              "13      9       Los Angeles, California  ...        3.106530      28.665848\n",
              "14      7       Los Angeles, California  ...        3.106530      23.776866\n",
              "15      8       Los Angeles, California  ...        3.106530      23.445409\n",
              "\n",
              "[16 rows x 8 columns]"
            ]
          },
          "metadata": {
            "tags": []
          },
          "execution_count": 14
        }
      ]
    },
    {
      "cell_type": "markdown",
      "metadata": {
        "id": "w7mFDGF-gII5",
        "colab_type": "text"
      },
      "source": [
        "Hotel 2 has the highest profitability, while hotel 8 has the lowest profitability."
      ]
    },
    {
      "cell_type": "markdown",
      "metadata": {
        "id": "NOitlSRIpGEF",
        "colab_type": "text"
      },
      "source": [
        "## 3. LQM has a budget of $10 million to spend on hotels. Suppose we used a “greedy” approach where we selected the most profitable hotels until we ran out of budget. So we would start by the most profitable, and then if we had enough budget left, we would buy the hotel we predict to be the second most profitable, and so on."
      ]
    },
    {
      "cell_type": "markdown",
      "metadata": {
        "id": "jMC7jakapGII",
        "colab_type": "text"
      },
      "source": [
        "### a. Describe what we would do with this approach, i.e., which hotels would we purchase?"
      ]
    },
    {
      "cell_type": "code",
      "metadata": {
        "id": "bNlHywZmqOQO",
        "colab_type": "code",
        "outputId": "42a72a4c-7787-438e-e1f0-b39418df920f",
        "colab": {
          "base_uri": "https://localhost:8080/",
          "height": 851
        }
      },
      "source": [
        "# Calculate the cumulative price\n",
        "lqm['cum_price'] = None\n",
        "\n",
        "for row in range(len(lqm)):\n",
        "  if row == 0:\n",
        "    lqm['cum_price'][row] = lqm['Price'][row]\n",
        "  else:\n",
        "    lqm['cum_price'][row] = lqm['cum_price'][row-1] + lqm['Price'][row]\n",
        "\n",
        "# Make purchase decisions on the cumulative price (<=10m)\n",
        "lqm['purchase'] = lqm['cum_price'].apply(lambda x: 'yes' if x <= 10000000 else 'no')\n",
        "\n",
        "# Calculate the cost-efficient level of each hotel\n",
        "lqm['cost-efficient'] = round((lqm['profitability']/lqm['Price'])*100000,2)\n",
        "\n",
        "lqm"
      ],
      "execution_count": 15,
      "outputs": [
        {
          "output_type": "stream",
          "text": [
            "/usr/local/lib/python3.6/dist-packages/ipykernel_launcher.py:6: SettingWithCopyWarning: \n",
            "A value is trying to be set on a copy of a slice from a DataFrame\n",
            "\n",
            "See the caveats in the documentation: https://pandas.pydata.org/pandas-docs/stable/user_guide/indexing.html#returning-a-view-versus-a-copy\n",
            "  \n",
            "/usr/local/lib/python3.6/dist-packages/ipykernel_launcher.py:8: SettingWithCopyWarning: \n",
            "A value is trying to be set on a copy of a slice from a DataFrame\n",
            "\n",
            "See the caveats in the documentation: https://pandas.pydata.org/pandas-docs/stable/user_guide/indexing.html#returning-a-view-versus-a-copy\n",
            "  \n"
          ],
          "name": "stderr"
        },
        {
          "output_type": "execute_result",
          "data": {
            "text/html": [
              "<div>\n",
              "<style scoped>\n",
              "    .dataframe tbody tr th:only-of-type {\n",
              "        vertical-align: middle;\n",
              "    }\n",
              "\n",
              "    .dataframe tbody tr th {\n",
              "        vertical-align: top;\n",
              "    }\n",
              "\n",
              "    .dataframe thead th {\n",
              "        text-align: right;\n",
              "    }\n",
              "</style>\n",
              "<table border=\"1\" class=\"dataframe\">\n",
              "  <thead>\n",
              "    <tr style=\"text-align: right;\">\n",
              "      <th></th>\n",
              "      <th>Hotel</th>\n",
              "      <th>Location</th>\n",
              "      <th>Price</th>\n",
              "      <th>price_norm</th>\n",
              "      <th>sqrt_median_income</th>\n",
              "      <th>collegestudents</th>\n",
              "      <th>statepopperinn</th>\n",
              "      <th>profitability</th>\n",
              "      <th>cum_price</th>\n",
              "      <th>purchase</th>\n",
              "      <th>cost-efficient</th>\n",
              "    </tr>\n",
              "  </thead>\n",
              "  <tbody>\n",
              "    <tr>\n",
              "      <th>0</th>\n",
              "      <td>2</td>\n",
              "      <td>Fresno, California</td>\n",
              "      <td>10000000</td>\n",
              "      <td>1.699076</td>\n",
              "      <td>-0.408199</td>\n",
              "      <td>0.311669</td>\n",
              "      <td>-0.474279</td>\n",
              "      <td>53.379192</td>\n",
              "      <td>10000000</td>\n",
              "      <td>yes</td>\n",
              "      <td>0.53</td>\n",
              "    </tr>\n",
              "    <tr>\n",
              "      <th>1</th>\n",
              "      <td>6</td>\n",
              "      <td>Long Beach, California</td>\n",
              "      <td>8950000</td>\n",
              "      <td>1.402123</td>\n",
              "      <td>0.657845</td>\n",
              "      <td>0.483711</td>\n",
              "      <td>-0.557278</td>\n",
              "      <td>49.095069</td>\n",
              "      <td>18950000</td>\n",
              "      <td>no</td>\n",
              "      <td>0.55</td>\n",
              "    </tr>\n",
              "    <tr>\n",
              "      <th>2</th>\n",
              "      <td>1</td>\n",
              "      <td>Eureka, California</td>\n",
              "      <td>2925000</td>\n",
              "      <td>-0.301823</td>\n",
              "      <td>-0.812780</td>\n",
              "      <td>-0.536413</td>\n",
              "      <td>-0.995987</td>\n",
              "      <td>44.242369</td>\n",
              "      <td>21875000</td>\n",
              "      <td>no</td>\n",
              "      <td>1.51</td>\n",
              "    </tr>\n",
              "    <tr>\n",
              "      <th>3</th>\n",
              "      <td>3</td>\n",
              "      <td>Fresno, California</td>\n",
              "      <td>3750000</td>\n",
              "      <td>-0.068503</td>\n",
              "      <td>-0.408199</td>\n",
              "      <td>0.311669</td>\n",
              "      <td>-0.474279</td>\n",
              "      <td>43.021179</td>\n",
              "      <td>25625000</td>\n",
              "      <td>no</td>\n",
              "      <td>1.15</td>\n",
              "    </tr>\n",
              "    <tr>\n",
              "      <th>4</th>\n",
              "      <td>4</td>\n",
              "      <td>Fresno, California</td>\n",
              "      <td>3500000</td>\n",
              "      <td>-0.139206</td>\n",
              "      <td>-0.408199</td>\n",
              "      <td>0.311669</td>\n",
              "      <td>-0.474279</td>\n",
              "      <td>42.606858</td>\n",
              "      <td>29125000</td>\n",
              "      <td>no</td>\n",
              "      <td>1.22</td>\n",
              "    </tr>\n",
              "    <tr>\n",
              "      <th>5</th>\n",
              "      <td>14</td>\n",
              "      <td>South Lake Tahoe, California</td>\n",
              "      <td>3750000</td>\n",
              "      <td>-0.068503</td>\n",
              "      <td>-0.791006</td>\n",
              "      <td>-0.594905</td>\n",
              "      <td>-0.426851</td>\n",
              "      <td>42.360966</td>\n",
              "      <td>32875000</td>\n",
              "      <td>no</td>\n",
              "      <td>1.13</td>\n",
              "    </tr>\n",
              "    <tr>\n",
              "      <th>6</th>\n",
              "      <td>12</td>\n",
              "      <td>South Lake Tahoe, California</td>\n",
              "      <td>2500000</td>\n",
              "      <td>-0.422019</td>\n",
              "      <td>-0.791006</td>\n",
              "      <td>-0.594905</td>\n",
              "      <td>-0.426851</td>\n",
              "      <td>40.289363</td>\n",
              "      <td>35375000</td>\n",
              "      <td>no</td>\n",
              "      <td>1.61</td>\n",
              "    </tr>\n",
              "    <tr>\n",
              "      <th>7</th>\n",
              "      <td>13</td>\n",
              "      <td>South Lake Tahoe, California</td>\n",
              "      <td>1975000</td>\n",
              "      <td>-0.570495</td>\n",
              "      <td>-0.791006</td>\n",
              "      <td>-0.594905</td>\n",
              "      <td>-0.426851</td>\n",
              "      <td>39.419290</td>\n",
              "      <td>37350000</td>\n",
              "      <td>no</td>\n",
              "      <td>2.00</td>\n",
              "    </tr>\n",
              "    <tr>\n",
              "      <th>8</th>\n",
              "      <td>10</td>\n",
              "      <td>South Lake Tahoe, California</td>\n",
              "      <td>1650000</td>\n",
              "      <td>-0.662409</td>\n",
              "      <td>-0.791006</td>\n",
              "      <td>-0.594905</td>\n",
              "      <td>-0.426851</td>\n",
              "      <td>38.880673</td>\n",
              "      <td>39000000</td>\n",
              "      <td>no</td>\n",
              "      <td>2.36</td>\n",
              "    </tr>\n",
              "    <tr>\n",
              "      <th>9</th>\n",
              "      <td>15</td>\n",
              "      <td>South Lake Tahoe, California</td>\n",
              "      <td>1475000</td>\n",
              "      <td>-0.711902</td>\n",
              "      <td>-0.791006</td>\n",
              "      <td>-0.594905</td>\n",
              "      <td>-0.426851</td>\n",
              "      <td>38.590649</td>\n",
              "      <td>40475000</td>\n",
              "      <td>no</td>\n",
              "      <td>2.62</td>\n",
              "    </tr>\n",
              "    <tr>\n",
              "      <th>10</th>\n",
              "      <td>11</td>\n",
              "      <td>South Lake Tahoe, California</td>\n",
              "      <td>1125000</td>\n",
              "      <td>-0.810886</td>\n",
              "      <td>-0.791006</td>\n",
              "      <td>-0.594905</td>\n",
              "      <td>-0.426851</td>\n",
              "      <td>38.010600</td>\n",
              "      <td>41600000</td>\n",
              "      <td>no</td>\n",
              "      <td>3.38</td>\n",
              "    </tr>\n",
              "    <tr>\n",
              "      <th>11</th>\n",
              "      <td>16</td>\n",
              "      <td>South Lake Tahoe, California</td>\n",
              "      <td>750000</td>\n",
              "      <td>-0.916941</td>\n",
              "      <td>-0.791006</td>\n",
              "      <td>-0.594905</td>\n",
              "      <td>-0.426851</td>\n",
              "      <td>37.389119</td>\n",
              "      <td>42350000</td>\n",
              "      <td>no</td>\n",
              "      <td>4.99</td>\n",
              "    </tr>\n",
              "    <tr>\n",
              "      <th>12</th>\n",
              "      <td>5</td>\n",
              "      <td>Fresno, California</td>\n",
              "      <td>325000</td>\n",
              "      <td>-1.037136</td>\n",
              "      <td>-0.408199</td>\n",
              "      <td>0.311669</td>\n",
              "      <td>-0.474279</td>\n",
              "      <td>37.344988</td>\n",
              "      <td>42675000</td>\n",
              "      <td>no</td>\n",
              "      <td>11.49</td>\n",
              "    </tr>\n",
              "    <tr>\n",
              "      <th>13</th>\n",
              "      <td>9</td>\n",
              "      <td>Los Angeles, California</td>\n",
              "      <td>4900000</td>\n",
              "      <td>0.256732</td>\n",
              "      <td>0.167686</td>\n",
              "      <td>3.106215</td>\n",
              "      <td>3.106530</td>\n",
              "      <td>28.665848</td>\n",
              "      <td>47575000</td>\n",
              "      <td>no</td>\n",
              "      <td>0.59</td>\n",
              "    </tr>\n",
              "    <tr>\n",
              "      <th>14</th>\n",
              "      <td>7</td>\n",
              "      <td>Los Angeles, California</td>\n",
              "      <td>1950000</td>\n",
              "      <td>-0.577566</td>\n",
              "      <td>0.167686</td>\n",
              "      <td>3.106215</td>\n",
              "      <td>3.106530</td>\n",
              "      <td>23.776866</td>\n",
              "      <td>49525000</td>\n",
              "      <td>no</td>\n",
              "      <td>1.22</td>\n",
              "    </tr>\n",
              "    <tr>\n",
              "      <th>15</th>\n",
              "      <td>8</td>\n",
              "      <td>Los Angeles, California</td>\n",
              "      <td>1750000</td>\n",
              "      <td>-0.634128</td>\n",
              "      <td>0.167686</td>\n",
              "      <td>3.106215</td>\n",
              "      <td>3.106530</td>\n",
              "      <td>23.445409</td>\n",
              "      <td>51275000</td>\n",
              "      <td>no</td>\n",
              "      <td>1.34</td>\n",
              "    </tr>\n",
              "  </tbody>\n",
              "</table>\n",
              "</div>"
            ],
            "text/plain": [
              "    Hotel                      Location  ...  purchase  cost-efficient\n",
              "0       2            Fresno, California  ...       yes            0.53\n",
              "1       6        Long Beach, California  ...        no            0.55\n",
              "2       1            Eureka, California  ...        no            1.51\n",
              "3       3            Fresno, California  ...        no            1.15\n",
              "4       4            Fresno, California  ...        no            1.22\n",
              "5      14  South Lake Tahoe, California  ...        no            1.13\n",
              "6      12  South Lake Tahoe, California  ...        no            1.61\n",
              "7      13  South Lake Tahoe, California  ...        no            2.00\n",
              "8      10  South Lake Tahoe, California  ...        no            2.36\n",
              "9      15  South Lake Tahoe, California  ...        no            2.62\n",
              "10     11  South Lake Tahoe, California  ...        no            3.38\n",
              "11     16  South Lake Tahoe, California  ...        no            4.99\n",
              "12      5            Fresno, California  ...        no           11.49\n",
              "13      9       Los Angeles, California  ...        no            0.59\n",
              "14      7       Los Angeles, California  ...        no            1.22\n",
              "15      8       Los Angeles, California  ...        no            1.34\n",
              "\n",
              "[16 rows x 11 columns]"
            ]
          },
          "metadata": {
            "tags": []
          },
          "execution_count": 15
        }
      ]
    },
    {
      "cell_type": "markdown",
      "metadata": {
        "id": "yFUol1qQkTHU",
        "colab_type": "text"
      },
      "source": [
        "We would only purchase hotel 2."
      ]
    },
    {
      "cell_type": "markdown",
      "metadata": {
        "id": "LpLyTrIrpPdi",
        "colab_type": "text"
      },
      "source": [
        "### b. What would our total predicted profitability be? (This is the sum of the predicted profitability of all hotels we purchase.)"
      ]
    },
    {
      "cell_type": "markdown",
      "metadata": {
        "id": "0xMBGSHNk15p",
        "colab_type": "text"
      },
      "source": [
        "Since we only purchase hotel 2, the total predicted profitability would be the profitability for hotel 2, which is about 53.38."
      ]
    },
    {
      "cell_type": "markdown",
      "metadata": {
        "id": "ywMb6h_OpPiB",
        "colab_type": "text"
      },
      "source": [
        "### c. If we are trying to maximize our total predicted profitability, is this a good approach? How about if we were trying to maximize the average predicted profitability of the hotels we select? How about if we had a budget of \\$20 million instead of $10 million?"
      ]
    },
    {
      "cell_type": "markdown",
      "metadata": {
        "id": "jWd8zzyLmI5L",
        "colab_type": "text"
      },
      "source": [
        "This is not a good approach to maximize our total predicted profitability, but is a good one to maximize the average profitability of the hotels we select. If we had a budget of $20 million, we would purchase more hotels but the answers to the previous two questions are the same."
      ]
    },
    {
      "cell_type": "markdown",
      "metadata": {
        "id": "RikZ8RKipPo1",
        "colab_type": "text"
      },
      "source": [
        "## 4. Now, build an optimization model to select hotels given the $10 million budget."
      ]
    },
    {
      "cell_type": "markdown",
      "metadata": {
        "id": "Sdp0VnqlpPtd",
        "colab_type": "text"
      },
      "source": [
        "### a. Write out the optimization problem. Make sure to detail the decision variables, the objective function and the constraints."
      ]
    },
    {
      "cell_type": "markdown",
      "metadata": {
        "id": "YMX39l3Sm_Cv",
        "colab_type": "text"
      },
      "source": [
        "### 1. Decision Variables\n",
        "Purchase decision for each hotel\n",
        "\n",
        "\\begin{equation}\n",
        "x_i=\\begin{cases}\n",
        "1 \\quad\\text{ purchase hotel i} \\\\\n",
        "0 \\quad \\text{ do not purchase hotel i}\n",
        "\\end{cases}\n",
        "(i=1,2,3,...16)\\\\\n",
        "\\end{equation}\n",
        "### 2. Objective Function\n",
        "$\\pi_i$ is the profitability for hotel i\n",
        "\\begin{equation}\n",
        "\\pi^T=\n",
        "\\begin{bmatrix} \n",
        "44.24 \\\\ 53.38 \\\\ 43.02 \\\\ 42.61 \\\\ \n",
        "37.34 \\\\ 49.10 \\\\ 23.78 \\\\ 23.45 \\\\\n",
        "28.67 \\\\ 38.88 \\\\ 38.01 \\\\ 40.29 \\\\\n",
        "39.42 \\\\ 42.36 \\\\ 38.59 \\\\ 37.39 \\\\\n",
        " \\end{bmatrix}\\\\\n",
        "\\text{Maximize} \\quad \\sum_{i=1}^{16}x_{i}\\times \\pi_{i}\n",
        "\\end{equation}\n",
        "### 3. Constraints\n",
        "Make sure the total amount of purchase do not exceed the budget.  \n",
        "$p_i$ is the price for hotel i:\n",
        "\\begin{equation}\n",
        "p^T=\n",
        "\\begin{bmatrix} \n",
        "2925000 \\\\ 10000000 \\\\ 3750000 \\\\ 3500000 \\\\\n",
        "325000 \\\\ 8950000 \\\\ 1950000 \\\\ 1750000 \\\\\n",
        "4900000 \\\\ 1650000 \\\\ 1125000 \\\\ 2500000 \\\\\n",
        "1975000 \\\\ 3750000 \\\\ 1475000 \\\\ 750000\n",
        " \\end{bmatrix}\\\\\n",
        "\\sum_{i=1}^{16}x_{i}\\times p_{i}\\leq10000000\\\\\n",
        "x_{i}\\in{0,1}\n",
        "\\end{equation} \n"
      ]
    },
    {
      "cell_type": "markdown",
      "metadata": {
        "id": "efqurY73pP1J",
        "colab_type": "text"
      },
      "source": [
        "### b. What is the optimal solution? Give the values of the decision variables and the optimal objective function value."
      ]
    },
    {
      "cell_type": "code",
      "metadata": {
        "id": "bo-NnxvGqRAB",
        "colab_type": "code",
        "outputId": "0e201835-6ea9-442a-83a0-21c27db4a093",
        "colab": {
          "base_uri": "https://localhost:8080/",
          "height": 374
        }
      },
      "source": [
        "# Re-sort by hotel index\n",
        "lqm = lqm.sort_values('Hotel', ascending = 1)\n",
        "lqm = lqm.reset_index().drop('index', axis = 1)\n",
        "\n",
        "# Profitability and price matrix (transposed)\n",
        "pi_matrix = matrix(data=lqm['profitability'])\n",
        "p_matrix = matrix(data=lqm['Price'])\n",
        "\n",
        "# Decision Variables\n",
        "x = cvx.Variable((16,1), boolean = True)\n",
        "\n",
        "# Objective Function\n",
        "z = sum(pi_matrix*x)\n",
        "objective = cvx.Maximize(z)\n",
        "\n",
        "# Constraints\n",
        "c=(sum(p_matrix*x))<=10000000\n",
        "c=[c]\n",
        "\n",
        "# Form and solve the problem\n",
        "prob = cvx.Problem(objective, c)\n",
        "result = prob.solve()\n",
        "\n",
        "# List the hotels that we decided to purchase\n",
        "purchase = []\n",
        "for hotel in range(16):\n",
        "  if x.value[hotel]==1:\n",
        "    purchase.append(hotel+1)\n",
        "  else:\n",
        "    continue\n",
        "\n",
        "# Print out the results\n",
        "print('The value of the decision variables are')\n",
        "print(x.value)\n",
        "\n",
        "print('The hotels that we are going to purchase are')\n",
        "print(purchase)\n",
        "\n",
        "print('The optimal objective function value (revenue) is ')\n",
        "print(prob.value)"
      ],
      "execution_count": 16,
      "outputs": [
        {
          "output_type": "stream",
          "text": [
            "The value of the decision variables are\n",
            "[[0.]\n",
            " [0.]\n",
            " [0.]\n",
            " [0.]\n",
            " [1.]\n",
            " [0.]\n",
            " [0.]\n",
            " [0.]\n",
            " [0.]\n",
            " [1.]\n",
            " [1.]\n",
            " [1.]\n",
            " [1.]\n",
            " [0.]\n",
            " [1.]\n",
            " [1.]]\n",
            "The hotels that we are going to purchase are\n",
            "[5, 10, 11, 12, 13, 15, 16]\n",
            "The optimal objective function value (revenue) is \n",
            "269.92468137719\n"
          ],
          "name": "stdout"
        }
      ]
    },
    {
      "cell_type": "markdown",
      "metadata": {
        "id": "k_nbBUkJpP8f",
        "colab_type": "text"
      },
      "source": [
        "### c. Does the optimal solution make sense intuitively? How does it compared to the greedy solution?"
      ]
    },
    {
      "cell_type": "markdown",
      "metadata": {
        "id": "uJVildc0D16I",
        "colab_type": "text"
      },
      "source": [
        "It makes sense intuitively, because it spent the budget on the most cost-efficient hotels. And it resulted in a much larger amount of total profit."
      ]
    },
    {
      "cell_type": "markdown",
      "metadata": {
        "id": "KmqwvZCEpQEo",
        "colab_type": "text"
      },
      "source": [
        "## 5. LQM thinks that buying too many hotels in one city is probably not a good idea and would prefer to diversify across as many cities as possible. Add constraint(s) to your model to limit the number of hotels purchased in any city to at most 2."
      ]
    },
    {
      "cell_type": "markdown",
      "metadata": {
        "id": "JVywMVFzpQC3",
        "colab_type": "text"
      },
      "source": [
        "### a. What are the constraints that you need to add to the model? Intuitively, do you expect the new optimal objective function value to be larger, smaller or the same as before?"
      ]
    },
    {
      "cell_type": "code",
      "metadata": {
        "id": "I73RskKTqTIp",
        "colab_type": "code",
        "outputId": "9c2a78f1-3cd7-4bf1-d534-b417066b3d24",
        "colab": {
          "base_uri": "https://localhost:8080/",
          "height": 545
        }
      },
      "source": [
        "lqm[['Hotel', 'Location']]"
      ],
      "execution_count": 17,
      "outputs": [
        {
          "output_type": "execute_result",
          "data": {
            "text/html": [
              "<div>\n",
              "<style scoped>\n",
              "    .dataframe tbody tr th:only-of-type {\n",
              "        vertical-align: middle;\n",
              "    }\n",
              "\n",
              "    .dataframe tbody tr th {\n",
              "        vertical-align: top;\n",
              "    }\n",
              "\n",
              "    .dataframe thead th {\n",
              "        text-align: right;\n",
              "    }\n",
              "</style>\n",
              "<table border=\"1\" class=\"dataframe\">\n",
              "  <thead>\n",
              "    <tr style=\"text-align: right;\">\n",
              "      <th></th>\n",
              "      <th>Hotel</th>\n",
              "      <th>Location</th>\n",
              "    </tr>\n",
              "  </thead>\n",
              "  <tbody>\n",
              "    <tr>\n",
              "      <th>0</th>\n",
              "      <td>1</td>\n",
              "      <td>Eureka, California</td>\n",
              "    </tr>\n",
              "    <tr>\n",
              "      <th>1</th>\n",
              "      <td>2</td>\n",
              "      <td>Fresno, California</td>\n",
              "    </tr>\n",
              "    <tr>\n",
              "      <th>2</th>\n",
              "      <td>3</td>\n",
              "      <td>Fresno, California</td>\n",
              "    </tr>\n",
              "    <tr>\n",
              "      <th>3</th>\n",
              "      <td>4</td>\n",
              "      <td>Fresno, California</td>\n",
              "    </tr>\n",
              "    <tr>\n",
              "      <th>4</th>\n",
              "      <td>5</td>\n",
              "      <td>Fresno, California</td>\n",
              "    </tr>\n",
              "    <tr>\n",
              "      <th>5</th>\n",
              "      <td>6</td>\n",
              "      <td>Long Beach, California</td>\n",
              "    </tr>\n",
              "    <tr>\n",
              "      <th>6</th>\n",
              "      <td>7</td>\n",
              "      <td>Los Angeles, California</td>\n",
              "    </tr>\n",
              "    <tr>\n",
              "      <th>7</th>\n",
              "      <td>8</td>\n",
              "      <td>Los Angeles, California</td>\n",
              "    </tr>\n",
              "    <tr>\n",
              "      <th>8</th>\n",
              "      <td>9</td>\n",
              "      <td>Los Angeles, California</td>\n",
              "    </tr>\n",
              "    <tr>\n",
              "      <th>9</th>\n",
              "      <td>10</td>\n",
              "      <td>South Lake Tahoe, California</td>\n",
              "    </tr>\n",
              "    <tr>\n",
              "      <th>10</th>\n",
              "      <td>11</td>\n",
              "      <td>South Lake Tahoe, California</td>\n",
              "    </tr>\n",
              "    <tr>\n",
              "      <th>11</th>\n",
              "      <td>12</td>\n",
              "      <td>South Lake Tahoe, California</td>\n",
              "    </tr>\n",
              "    <tr>\n",
              "      <th>12</th>\n",
              "      <td>13</td>\n",
              "      <td>South Lake Tahoe, California</td>\n",
              "    </tr>\n",
              "    <tr>\n",
              "      <th>13</th>\n",
              "      <td>14</td>\n",
              "      <td>South Lake Tahoe, California</td>\n",
              "    </tr>\n",
              "    <tr>\n",
              "      <th>14</th>\n",
              "      <td>15</td>\n",
              "      <td>South Lake Tahoe, California</td>\n",
              "    </tr>\n",
              "    <tr>\n",
              "      <th>15</th>\n",
              "      <td>16</td>\n",
              "      <td>South Lake Tahoe, California</td>\n",
              "    </tr>\n",
              "  </tbody>\n",
              "</table>\n",
              "</div>"
            ],
            "text/plain": [
              "    Hotel                      Location\n",
              "0       1            Eureka, California\n",
              "1       2            Fresno, California\n",
              "2       3            Fresno, California\n",
              "3       4            Fresno, California\n",
              "4       5            Fresno, California\n",
              "5       6        Long Beach, California\n",
              "6       7       Los Angeles, California\n",
              "7       8       Los Angeles, California\n",
              "8       9       Los Angeles, California\n",
              "9      10  South Lake Tahoe, California\n",
              "10     11  South Lake Tahoe, California\n",
              "11     12  South Lake Tahoe, California\n",
              "12     13  South Lake Tahoe, California\n",
              "13     14  South Lake Tahoe, California\n",
              "14     15  South Lake Tahoe, California\n",
              "15     16  South Lake Tahoe, California"
            ]
          },
          "metadata": {
            "tags": []
          },
          "execution_count": 17
        }
      ]
    },
    {
      "cell_type": "markdown",
      "metadata": {
        "id": "UPByqkqnNCmf",
        "colab_type": "text"
      },
      "source": [
        "### Add Constraints\n",
        "Make sure that there are at most two hotels chosen from each city:\n",
        "\\begin{equation}\n",
        "\\sum_{i=1}^{5}x_{i}\\leq 2\\\\\n",
        "\\sum_{i=6}^{9}x_{i}\\leq 2\\\\\n",
        "\\sum_{i=10}^{16}x_{i}\\leq 2\\\\\n",
        "\\end{equation} "
      ]
    },
    {
      "cell_type": "markdown",
      "metadata": {
        "id": "PugC4HWdN5A2",
        "colab_type": "text"
      },
      "source": [
        "Intuitively, I expect the new optimal objective function value to be smaller than before, because adding constraints will only decrease the objective function that we're going to maximize."
      ]
    },
    {
      "cell_type": "markdown",
      "metadata": {
        "id": "hs4Hla76pQBC",
        "colab_type": "text"
      },
      "source": [
        "### b. Write the new optimization model."
      ]
    },
    {
      "cell_type": "markdown",
      "metadata": {
        "id": "GcYTIJeaPaNM",
        "colab_type": "text"
      },
      "source": [
        "### 1. Decision Variables\n",
        "Purchase decision for each hotel\n",
        "\n",
        "\\begin{equation}\n",
        "x_i=\\begin{cases}\n",
        "1 \\quad\\text{ purchase hotel i} \\\\\n",
        "0 \\quad \\text{ do not purchase hotel i}\n",
        "\\end{cases}\n",
        "(i=1,2,3,...16)\\\\\n",
        "\\end{equation}\n",
        "### 2. Objective Function\n",
        "$\\pi_i$ is the profitability for hotel i\n",
        "\\begin{equation}\n",
        "\\pi^T=\n",
        "\\begin{bmatrix} \n",
        "44.24 \\\\ 53.38 \\\\ 43.02 \\\\ 42.61 \\\\ \n",
        "37.34 \\\\ 49.10 \\\\ 23.78 \\\\ 23.45 \\\\\n",
        "28.67 \\\\ 38.88 \\\\ 38.01 \\\\ 40.29 \\\\\n",
        "39.42 \\\\ 42.36 \\\\ 38.59 \\\\ 37.39 \\\\\n",
        " \\end{bmatrix}\\\\\n",
        "\\text{Maximize} \\quad \\sum_{i=1}^{16}x_{i}\\times \\pi_{i}\n",
        "\\end{equation}\n",
        "### 3. Constraints\n",
        "Make sure the total amount of purchase do not exceed the budget.  \n",
        "$p_i$ is the price for hotel i:\n",
        "\\begin{equation}\n",
        "p^T=\n",
        "\\begin{bmatrix} \n",
        "2925000 \\\\ 10000000 \\\\ 3750000 \\\\ 3500000 \\\\\n",
        "325000 \\\\ 8950000 \\\\ 1950000 \\\\ 1750000 \\\\\n",
        "4900000 \\\\ 1650000 \\\\ 1125000 \\\\ 2500000 \\\\\n",
        "1975000 \\\\ 3750000 \\\\ 1475000 \\\\ 750000\n",
        " \\end{bmatrix}\\\\\n",
        "\\sum_{i=1}^{16}x_{i}\\times p_{i}\\leq10000000\\\\\n",
        "x_{i}\\in{0,1}\n",
        "\\end{equation} \n",
        "\n",
        "Make sure that there are at most two hotels chosen from each city:\n",
        "\\begin{equation}\n",
        "\\sum_{i=1}^{5}x_{i}\\leq 2\\\\\n",
        "\\sum_{i=6}^{9}x_{i}\\leq 2\\\\\n",
        "\\sum_{i=10}^{16}x_{i}\\leq 2\\\\\n",
        "\\end{equation} \n"
      ]
    },
    {
      "cell_type": "markdown",
      "metadata": {
        "id": "vvNYafUApP6i",
        "colab_type": "text"
      },
      "source": [
        "### c. Solve the new model. Give the values of the decision variables and the optimal objective function value. How does this compare to the previous solution?"
      ]
    },
    {
      "cell_type": "code",
      "metadata": {
        "id": "yZrTgEdXqTy6",
        "colab_type": "code",
        "outputId": "64156e10-c85d-411a-8549-84d650773c9a",
        "colab": {
          "base_uri": "https://localhost:8080/",
          "height": 374
        }
      },
      "source": [
        "# Decision Variables\n",
        "x = cvx.Variable((16,1), boolean = True)\n",
        "\n",
        "# Objective Function\n",
        "z = sum(pi_matrix*x)\n",
        "objective = cvx.Maximize(z)\n",
        "\n",
        "# Constraints\n",
        "c1=(sum(p_matrix*x))<=10000000\n",
        "c2=x[0]+x[1]+x[2]+x[3]+x[4]<=2\n",
        "c3=x[5]+x[6]+x[7]+x[8]<=2\n",
        "c4=x[9]+x[10]+x[11]+x[12]+x[13]+x[14]+x[15]<=2\n",
        "c=[c1,c2,c3,c4]\n",
        "\n",
        "# Form and solve the problem\n",
        "prob = cvx.Problem(objective, c)\n",
        "result = prob.solve()\n",
        "\n",
        "# List the hotels that we decided to purchase\n",
        "purchase = []\n",
        "for hotel in range(16):\n",
        "  if x.value[hotel]==1:\n",
        "    purchase.append(hotel+1)\n",
        "  else:\n",
        "    continue\n",
        "\n",
        "# Print out the results\n",
        "print('The value of the decision variables are')\n",
        "print(x.value)\n",
        "\n",
        "print('The hotels that we are going to purchase are')\n",
        "print(purchase)\n",
        "\n",
        "print('The optimal objective function value (revenue) is ')\n",
        "print(prob.value)"
      ],
      "execution_count": 18,
      "outputs": [
        {
          "output_type": "stream",
          "text": [
            "The value of the decision variables are\n",
            "[[1.]\n",
            " [0.]\n",
            " [0.]\n",
            " [0.]\n",
            " [1.]\n",
            " [0.]\n",
            " [1.]\n",
            " [1.]\n",
            " [0.]\n",
            " [1.]\n",
            " [1.]\n",
            " [0.]\n",
            " [0.]\n",
            " [0.]\n",
            " [0.]\n",
            " [0.]]\n",
            "The hotels that we are going to purchase are\n",
            "[1, 5, 7, 8, 10, 11]\n",
            "The optimal objective function value (revenue) is \n",
            "205.70090440379596\n"
          ],
          "name": "stdout"
        }
      ]
    },
    {
      "cell_type": "markdown",
      "metadata": {
        "id": "xvHXW7urQE2n",
        "colab_type": "text"
      },
      "source": [
        "Compared to the previous solution, the optimal objective function value (maximum profit) of this solution is smaller, which is reasonable because we added constraints."
      ]
    },
    {
      "cell_type": "markdown",
      "metadata": {
        "id": "V9mFIQySpP48",
        "colab_type": "text"
      },
      "source": [
        "## 6. In one paragraph (no more than 300 words), describe how you would present your results to LQM. Do you have any recommendations for them to improve the regression model? How about to improve the optimization model?"
      ]
    },
    {
      "cell_type": "markdown",
      "metadata": {
        "id": "2VfdeWrrpPyf",
        "colab_type": "text"
      },
      "source": [
        "First, for the regression model, the current variables are useful, but we can still continue to explore more variables that significantly influence the profitability of the hotel, so that it will make our further analysis more accurate and comprehensive. Second, from the result of the optimization models, we can conclude that it's better to purchase multiple highly cost-efficient hotels compared to purchasing the maximum number of hotels with highest profitabilities within the budget limit, because the former model maximizes the total profit. Moreover, if we consider to diversify across cities, this constraint will decrease the maximum profit, so it's a tradeoff. According to the optimization model, the decrease is 64 (270-206), if this is acceptable, then we can go with the one considering diversity."
      ]
    },
    {
      "cell_type": "code",
      "metadata": {
        "id": "b_gsh9VSUWcZ",
        "colab_type": "code",
        "colab": {}
      },
      "source": [
        ""
      ],
      "execution_count": 0,
      "outputs": []
    }
  ]
}